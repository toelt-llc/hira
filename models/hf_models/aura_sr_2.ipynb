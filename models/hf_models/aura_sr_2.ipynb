{
 "cells": [
  {
   "cell_type": "code",
   "execution_count": null,
   "metadata": {},
   "outputs": [],
   "source": [
    "!pip install aura-sr"
   ]
  },
  {
   "cell_type": "code",
   "execution_count": 1,
   "metadata": {},
   "outputs": [
    {
     "data": {
      "application/vnd.jupyter.widget-view+json": {
       "model_id": "fa5d3c02d3674822a80a6f0e9e869a10",
       "version_major": 2,
       "version_minor": 0
      },
      "text/plain": [
       "Fetching 6 files:   0%|          | 0/6 [00:00<?, ?it/s]"
      ]
     },
     "metadata": {},
     "output_type": "display_data"
    }
   ],
   "source": [
    "from aura_sr import AuraSR\n",
    "from PIL import Image\n",
    "\n",
    "aura_sr = AuraSR.from_pretrained(\"fal/AuraSR-v2\")"
   ]
  },
  {
   "cell_type": "code",
   "execution_count": null,
   "metadata": {},
   "outputs": [],
   "source": [
    "low_res_img_pth = \"your_lr_img.png\"\n",
    "\n",
    "image = Image.open(low_res_img_pth).resize((256, 256))\n",
    "upscaled_image = aura_sr.upscale_4x_overlapped(image)\n",
    "upscaled_image.resize((256, 256))"
   ]
  }
 ],
 "metadata": {
  "kernelspec": {
   "display_name": "superres",
   "language": "python",
   "name": "python3"
  },
  "language_info": {
   "codemirror_mode": {
    "name": "ipython",
    "version": 3
   },
   "file_extension": ".py",
   "mimetype": "text/x-python",
   "name": "python",
   "nbconvert_exporter": "python",
   "pygments_lexer": "ipython3",
   "version": "3.11.9"
  }
 },
 "nbformat": 4,
 "nbformat_minor": 2
}
