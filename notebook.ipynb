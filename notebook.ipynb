{
 "cells": [
  {
   "cell_type": "markdown",
   "metadata": {},
   "source": [
    "# Main notebook\n",
    "In this notebook, the processes to use the best trained model are listed with the corresponding code blocks."
   ]
  },
  {
   "cell_type": "markdown",
   "metadata": {},
   "source": [
    "## Install \n",
    "Using a new conda environments, install the dependencies with : "
   ]
  },
  {
   "cell_type": "code",
   "execution_count": null,
   "metadata": {},
   "outputs": [],
   "source": [
    "!pip install -r requirements.txt"
   ]
  },
  {
   "cell_type": "markdown",
   "metadata": {},
   "source": [
    "## Data "
   ]
  },
  {
   "cell_type": "markdown",
   "metadata": {},
   "source": [
    "To follow ReaslESRGans formatting, the data is prepared in a data folder.  \n",
    "The high and low resolutions images are separated in two subfolders:  \n",
    "*data/*  \n",
    " | -- *images_h/*   \n",
    " | -- *images_l/*  "
   ]
  },
  {
   "cell_type": "markdown",
   "metadata": {},
   "source": [
    "Then, to prepare the metadata the model needs for training we use the generation script:"
   ]
  },
  {
   "cell_type": "code",
   "execution_count": null,
   "metadata": {},
   "outputs": [],
   "source": [
    "# Generate the metainfo_paired.txt necessary for training.\n",
    "!python3 model/Real-ESRGAN/scripts/generate_meta_info_pairdata.py --input data/hira/images_h data/hira/images_l --meta_info data/hira/metainfo_paired.txt"
   ]
  },
  {
   "cell_type": "markdown",
   "metadata": {},
   "source": [
    "## Training"
   ]
  },
  {
   "cell_type": "markdown",
   "metadata": {},
   "source": [
    "### Download pre-trained weights\n",
    "Downloads are saved to [experiments/pretrained_models](./models/Real-ESRGAN/experiments/pretrained_models)\n",
    "\n",
    "*RealESRGAN_x4plus.pth*"
   ]
  },
  {
   "cell_type": "code",
   "execution_count": null,
   "metadata": {},
   "outputs": [],
   "source": [
    "!wget https://github.com/xinntao/Real-ESRGAN/releases/download/v0.1.0/RealESRGAN_x4plus.pth -P models/Real-ESRGAN/experiments/pretrained_models"
   ]
  },
  {
   "cell_type": "markdown",
   "metadata": {},
   "source": [
    "*RealESRGAN_x4plus_netD.pth*"
   ]
  },
  {
   "cell_type": "code",
   "execution_count": null,
   "metadata": {},
   "outputs": [],
   "source": [
    "!wget https://github.com/xinntao/Real-ESRGAN/releases/download/v0.2.2.3/RealESRGAN_x4plus_netD.pth -P experiments/pretrained_models"
   ]
  },
  {
   "cell_type": "markdown",
   "metadata": {},
   "source": [
    "### Fine-tuning\n",
    "On the original source repository, base setup and scripts are available, we customize it for our task."
   ]
  },
  {
   "cell_type": "markdown",
   "metadata": {},
   "source": [
    "First, the example training [YAML file](options/finetune_realesrgan_x4plus_pairdata.yml) has been quickly updated to adapt to our training setup, mainly the `datasets` part from line 16:\n",
    "\n",
    "```yml\n",
    "datasets:\n",
    "  train:\n",
    "    name: HIRA\n",
    "    type: RealESRGANPairedDataset\n",
    "    dataroot_gt: datasets/hira\n",
    "    dataroot_lq: datasets/hira\n",
    "    meta_info: datasets/hira/metainfo_paired.txt\n",
    "    io_backend:\n",
    "      type: disk\n",
    "\n",
    "    gt_size: 240\n",
    "```\n",
    "\n",
    "*NOTE: more modifications possible depending on your hardware setup & training preferences is possible directly in the file [training options yml](options/finetune_realesrgan_x4plus_pairdata.yml)*"
   ]
  },
  {
   "cell_type": "markdown",
   "metadata": {},
   "source": [
    "**Training script run**"
   ]
  },
  {
   "cell_type": "code",
   "execution_count": null,
   "metadata": {},
   "outputs": [],
   "source": [
    "!python3 ./models/Real-ESRGAN/realesrgan/train.py -opt ./models/Real-ESRGAN/options/finetune_realesrgan_x4plus_pairdata.yml --auto_resume"
   ]
  },
  {
   "cell_type": "markdown",
   "metadata": {},
   "source": [
    "Due to possibly long training times, it is recommended to run it as a script instead."
   ]
  },
  {
   "cell_type": "markdown",
   "metadata": {},
   "source": [
    "## Results - inference"
   ]
  },
  {
   "cell_type": "markdown",
   "metadata": {},
   "source": [
    "To visualize some results after training we use the following:  "
   ]
  },
  {
   "cell_type": "code",
   "execution_count": null,
   "metadata": {},
   "outputs": [],
   "source": [
    "!python3 ./models/Real-ESRGAN/inference_realesrgan.py -n latest_best.pth  -i inputs --face_enhance"
   ]
  },
  {
   "cell_type": "markdown",
   "metadata": {},
   "source": [
    "**NOTE** no fine-tuned model is yet publicly available, to use your trained model, replace the *latest_best.pth* parameter with the path of your trained model output from the training command."
   ]
  }
 ],
 "metadata": {
  "kernelspec": {
   "display_name": "superres",
   "language": "python",
   "name": "python3"
  },
  "language_info": {
   "codemirror_mode": {
    "name": "ipython",
    "version": 3
   },
   "file_extension": ".py",
   "mimetype": "text/x-python",
   "name": "python",
   "nbconvert_exporter": "python",
   "pygments_lexer": "ipython3",
   "version": "3.11.9"
  }
 },
 "nbformat": 4,
 "nbformat_minor": 2
}
